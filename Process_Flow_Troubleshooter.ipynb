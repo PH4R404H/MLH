{
 "cells": [
  {
   "cell_type": "code",
   "execution_count": 2,
   "metadata": {},
   "outputs": [
    {
     "name": "stderr",
     "output_type": "stream",
     "text": [
      "Exception in Tkinter callback\n",
      "Traceback (most recent call last):\n",
      "  File \"c:\\Users\\Angel\\.conda\\envs\\Sandbox\\Lib\\tkinter\\__init__.py\", line 1948, in __call__\n",
      "    return self.func(*args)\n",
      "           ^^^^^^^^^^^^^^^^\n",
      "  File \"C:\\Users\\Angel\\AppData\\Local\\Temp\\ipykernel_3128\\367076249.py\", line 31, in Troubleshoot\n",
      "    image = Image.open(result_image_path)\n",
      "            ^^^^^^^^^^^^^^^^^^^^^^^^^^^^^\n",
      "  File \"c:\\Users\\Angel\\.conda\\envs\\Sandbox\\Lib\\site-packages\\PIL\\Image.py\", line 3243, in open\n",
      "    fp = builtins.open(filename, \"rb\")\n",
      "         ^^^^^^^^^^^^^^^^^^^^^^^^^^^^^\n",
      "FileNotFoundError: [Errno 2] No such file or directory: 'unknown_error.png'\n"
     ]
    }
   ],
   "source": [
    "from tkinter import *\n",
    "from PIL import Image, ImageTk\n",
    "\n",
    "class MyWindow:\n",
    "    def __init__(self, win):\n",
    "        self.lbl1=Label(win, text='Error Code:', fg='red')\n",
    "        self.t1=Entry(bd=3)\n",
    "        self.btn1 = Button(win, text='Run', command=self.Troubleshoot)\n",
    "        self.lbl1.place(x=100, y=50)\n",
    "        self.t1.place(x=200, y=50)\n",
    "        self.btn1.place(x=100, y=150)\n",
    "        self.result_label = Label(win)  # Label to display the result text\n",
    "        self.result_label.place(x=100, y=200)\n",
    "        self.result_image = Label(win)  # Label to display the result image\n",
    "        self.result_image.place(x=100, y=250)\n",
    "\n",
    "    def Troubleshoot(self):\n",
    "        errorCode=str(self.t1.get())\n",
    "        # Here you would add your logic to map the error code to a list of steps and images\n",
    "        if errorCode == '1':\n",
    "            result_text = 'Error 1 occurred'\n",
    "            result_image_path = 'error1.png'  # Replace with the path to your image\n",
    "        elif errorCode == '2':\n",
    "            result_text = 'Error 2 occurred'\n",
    "            result_image_path = 'error2.png'  # Replace with the path to your image\n",
    "        else:\n",
    "            result_text = 'Unknown error'\n",
    "            result_image_path = 'unknown_error.png'  # Replace with the path to your image\n",
    "\n",
    "        self.result_label.config(text=result_text)\n",
    "        image = Image.open(result_image_path)\n",
    "        photo = ImageTk.PhotoImage(image)\n",
    "        self.result_image.config(image=photo)\n",
    "        self.result_image.image = photo  # Keep a reference to the image to prevent it from being garbage collected\n",
    "\n",
    "window=Tk()\n",
    "# window.iconbitmap('favicon.ico')  # Set the favicon. Replace 'favicon.ico' with the path to your .ico file.\n",
    "mywin=MyWindow(window)\n",
    "window.title('Process Flow Troubleshooter')\n",
    "window.geometry(\"400x300+10+10\")\n",
    "window.mainloop()"
   ]
  }
 ],
 "metadata": {
  "kernelspec": {
   "display_name": "Sandbox",
   "language": "python",
   "name": "python3"
  },
  "language_info": {
   "codemirror_mode": {
    "name": "ipython",
    "version": 3
   },
   "file_extension": ".py",
   "mimetype": "text/x-python",
   "name": "python",
   "nbconvert_exporter": "python",
   "pygments_lexer": "ipython3",
   "version": "3.12.0"
  }
 },
 "nbformat": 4,
 "nbformat_minor": 2
}
